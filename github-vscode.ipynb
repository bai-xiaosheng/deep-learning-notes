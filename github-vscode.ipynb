{
 "cells": [
  {
   "cell_type": "markdown",
   "metadata": {},
   "source": [
    "## 1. 创建远端github仓库 \n",
    "## 2. vscode中登录github账号\n",
    "## 3. 打卡vscode选择克隆仓库\n",
    "## 4. 保存、提交（本地）、推送（远程）"
   ]
  }
 ],
 "metadata": {
  "language_info": {
   "name": "python"
  }
 },
 "nbformat": 4,
 "nbformat_minor": 2
}
