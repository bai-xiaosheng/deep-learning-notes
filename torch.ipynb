{
 "cells": [
  {
   "cell_type": "markdown",
   "metadata": {},
   "source": [
    "## 基本概念\n",
    "\n",
    "Tensor（张量）是深度学习中常使用的一种数据结构，能够**包含计算图，能够自动求导、GPU加速**\n",
    "\n",
    "Numpy是python中一个科学计算基本库，提供了一个多维数组对象 `ndarray`.主要用于数值计算，不支持自动求导，仅支持CPU计算\n",
    "\n",
    "Tensor 和 Numpy 可以相互转换，但需要注意设备位置（需要在CPU上），转换方法：\n",
    "\n",
    "1. .numpy():将 tensor 转换为 numpy， torch.from_numpy(): 将 numpy 转换为 tensor。注意这种转换方式是指两者共享相同的内存，一个改变另一个也会改变\n",
    "2. torch.tensor(): 将 tensor 转换为 numpy，返回的Tensor和原来的numpy数据不再共享内存。所以计算速度慢"
   ]
  },
  {
   "cell_type": "markdown",
   "metadata": {},
   "source": [
    "## 创建tensor\n",
    "\n",
    "torch.Tensor()是指创建一个浮点数的 tensor， 等同于 torch.FloatTensor()，类似的还有 torch.IntTensor, torch.LongTensor(), torch.DoubleTensor().\n",
    "\n",
    "torch.tensor()需要在里面指定 tensor 类型。"
   ]
  },
  {
   "cell_type": "code",
   "execution_count": 1,
   "metadata": {},
   "outputs": [
    {
     "name": "stderr",
     "output_type": "stream",
     "text": [
      "d:\\anaconda\\envs\\DeepLearning\\lib\\site-packages\\tqdm\\auto.py:22: TqdmWarning: IProgress not found. Please update jupyter and ipywidgets. See https://ipywidgets.readthedocs.io/en/stable/user_install.html\n",
      "  from .autonotebook import tqdm as notebook_tqdm\n"
     ]
    }
   ],
   "source": [
    "import torch\n",
    "import torch.nn.functional as F"
   ]
  },
  {
   "cell_type": "code",
   "execution_count": null,
   "metadata": {},
   "outputs": [],
   "source": [
    "a = torch.Tnesor([0, 1])\n",
    "b = torch.FloatTensor([0, 1])\n",
    "\n",
    "c = torch.tensor([0., 1.])\n",
    "\n",
    "print(a.type(), b.type(), c.type())"
   ]
  },
  {
   "cell_type": "code",
   "execution_count": null,
   "metadata": {},
   "outputs": [
    {
     "name": "stdout",
     "output_type": "stream",
     "text": [
      "tensor([[0, 1],\n",
      "        [2, 0]])\n"
     ]
    }
   ],
   "source": [
    "# a = torch.arange(0,4).view(2,2)\n",
    "# a = torch.Tensor([[0,1],[2,0]], dtype=torch.int64)  错误，torch1.8版本以后，Tensor不支持指定类型\n",
    "a = torch.tensor([[0, 1], [2, 0]], dtype=torch.int64)\n",
    "print(a)"
   ]
  },
  {
   "cell_type": "code",
   "execution_count": 40,
   "metadata": {},
   "outputs": [
    {
     "name": "stdout",
     "output_type": "stream",
     "text": [
      "tensor([[[1, 0, 0, 0],\n",
      "         [0, 1, 0, 0]],\n",
      "\n",
      "        [[0, 0, 1, 0],\n",
      "         [1, 0, 0, 0]]])\n"
     ]
    }
   ],
   "source": [
    "a = F.one_hot(a, 4)\n",
    "print(a)"
   ]
  },
  {
   "cell_type": "code",
   "execution_count": 41,
   "metadata": {},
   "outputs": [
    {
     "name": "stdout",
     "output_type": "stream",
     "text": [
      "tensor([[[1, 0],\n",
      "         [0, 1]],\n",
      "\n",
      "        [[0, 1],\n",
      "         [0, 0]],\n",
      "\n",
      "        [[0, 0],\n",
      "         [1, 0]],\n",
      "\n",
      "        [[0, 0],\n",
      "         [0, 0]]])\n"
     ]
    }
   ],
   "source": [
    "b = a.permute(2,0,1)\n",
    "print(b)"
   ]
  },
  {
   "cell_type": "code",
   "execution_count": 23,
   "metadata": {},
   "outputs": [
    {
     "name": "stdout",
     "output_type": "stream",
     "text": [
      "tensor([[1, 0],\n",
      "        [0, 0]])\n"
     ]
    }
   ],
   "source": [
    "c = b[0]\n",
    "print(c)"
   ]
  },
  {
   "cell_type": "code",
   "execution_count": 42,
   "metadata": {},
   "outputs": [
    {
     "name": "stdout",
     "output_type": "stream",
     "text": [
      "tensor([0, 1])\n",
      "tensor([0, 1])\n"
     ]
    }
   ],
   "source": [
    "idx, topx = torch.where(b[0])\n",
    "print(idx)\n",
    "print(topx)"
   ]
  },
  {
   "cell_type": "code",
   "execution_count": 5,
   "metadata": {},
   "outputs": [
    {
     "name": "stdout",
     "output_type": "stream",
     "text": [
      "tensor([[0, 1],\n",
      "        [2, 3]])\n",
      "tensor(0)\n",
      "tensor([0, 2])\n",
      "tensor([0, 3])\n"
     ]
    }
   ],
   "source": [
    "a = torch.arange(0,4).view(2,2)\n",
    "print(a)\n",
    "b = a[0,0]\n",
    "print(b)\n",
    "c = a[[0,1],0]\n",
    "print(c)\n",
    "d = a[[0,1],[0,1]]\n",
    "print(d)"
   ]
  }
 ],
 "metadata": {
  "kernelspec": {
   "display_name": "DeepLearn",
   "language": "python",
   "name": "python3"
  },
  "language_info": {
   "codemirror_mode": {
    "name": "ipython",
    "version": 3
   },
   "file_extension": ".py",
   "mimetype": "text/x-python",
   "name": "python",
   "nbconvert_exporter": "python",
   "pygments_lexer": "ipython3",
   "version": "3.11.7"
  }
 },
 "nbformat": 4,
 "nbformat_minor": 2
}
