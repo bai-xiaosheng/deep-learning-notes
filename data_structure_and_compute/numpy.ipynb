{
 "cells": [
  {
   "cell_type": "markdown",
   "metadata": {},
   "source": [
    "# Numpy 定义\n",
    "Numpy 是一个第三方库，主要用于**数组计算**，包括：\n",
    "* 一个N维的数组对象 ndarray\n",
    "* 广播功能函数\n",
    "* 整合 c/c++/Fortran 代码的工具\n",
    "* 线性代数、傅里叶变换、随机数生成等功能"
   ]
  },
  {
   "attachments": {
    "image.png": {
     "image/png": "[encoded data removed]"
    }
   },
   "cell_type": "markdown",
   "metadata": {},
   "source": [
    "## ndarray\n",
    "是一种用来**存储同类型元素的多维数组**\n",
    "\n",
    "数据结构：\n",
    "* `data`:实际数据在内存中的缓冲区\n",
    "* `dtype`:数据类型，例如`int32`、`float64`\n",
    "* `shape`:数组的维度信息，例如(3,4)表示 3 行 4 列\n",
    "* `ndim`:数组中的维度数量，例如 2，表示2维数组\n",
    "* `size`:数组中包含的所有元素\n",
    "* `strides`:每个维度上移动到下一个元素所需的字节数，例如（12，4）表示每行间隔 12 个字节，每列间隔 4 个字节\n",
    "* `flags`:内存布局信息（如是否连续）\n",
    "\n",
    "![image.png](attachment:image.png)\n",
    "\n",
    "### 优缺点\n",
    "优点|缺点\n",
    "|:---:|:---:|\n",
    "|高效计算|无法存储混合类型|\n",
    "|内存连续|静态结构：创建后大小固定|\n",
    "|API丰富||\n",
    "\n",
    "### 内存特性\n",
    "`ndarray` 是创建时就已经确定了内存分配和形状。一旦数组创建后，**内存块的大小和布局无法动态改变**。此外 `ndarray` 的形状调整分为两种情况：\n",
    "1. 不改变总元素的调整：仅修改 `shape` 和 `strides` 属性，不会复制数据，返回视图，视图中的数据修改，原数据也会修改\n",
    "2. 改变总元素的调整：\n",
    "\n",
    "\n",
    "### 向量、矩阵、数组之间的关系\n",
    "向量是一维数组，矩阵是二维数组，两个都是数组的特殊形式"
   ]
  },
  {
   "cell_type": "markdown",
   "metadata": {},
   "source": [
    "## Numpy 常用操作\n",
    "1. 创建数组\n",
    "   1. 从列表或者元组中创建\n",
    "   2. 创建特定模式的数组\n",
    "   3. 生成随机数组\n",
    "2. 数学运算\n",
    "   1. 逐元素运算\n",
    "   2. 矩阵运算\n",
    "   3. 通用函数\n",
    "3. 形状操作\n",
    "   1. 调整形状，不复制数据\n",
    "   2. 展平数组\n",
    "   3. 拼接与分割\n",
    "4. 索引与切片\n",
    "   1. 基础索引\n",
    "   2. 布尔索引\n",
    "   3. 花式索引\n",
    "5. 统计与聚合\n",
    "   1. 基本统计：求和、均值、最大值\n",
    "   2. 其他统计函数：标准差、方差、累计和\n",
    "6. 广播\n",
    "7. 文件操作：保存和加载\n",
    "8. 线性代数                                          "
   ]
  },
  {
   "cell_type": "markdown",
   "metadata": {},
   "source": [
    "### 创建ndarray\n",
    "1. 使用列表或者元组"
   ]
  },
  {
   "cell_type": "code",
   "execution_count": 21,
   "metadata": {},
   "outputs": [
    {
     "name": "stdout",
     "output_type": "stream",
     "text": [
      "['T', '__abs__', '__add__', '__and__', '__array__', '__array_finalize__', '__array_function__', '__array_interface__', '__array_namespace__', '__array_priority__', '__array_struct__', '__array_ufunc__', '__array_wrap__', '__bool__', '__class__', '__class_getitem__', '__complex__', '__contains__', '__copy__', '__deepcopy__', '__delattr__', '__delitem__', '__dir__', '__divmod__', '__dlpack__', '__dlpack_device__', '__doc__', '__eq__', '__float__', '__floordiv__', '__format__', '__ge__', '__getattribute__', '__getitem__', '__gt__', '__hash__', '__iadd__', '__iand__', '__ifloordiv__', '__ilshift__', '__imatmul__', '__imod__', '__imul__', '__index__', '__init__', '__init_subclass__', '__int__', '__invert__', '__ior__', '__ipow__', '__irshift__', '__isub__', '__iter__', '__itruediv__', '__ixor__', '__le__', '__len__', '__lshift__', '__lt__', '__matmul__', '__mod__', '__mul__', '__ne__', '__neg__', '__new__', '__or__', '__pos__', '__pow__', '__radd__', '__rand__', '__rdivmod__', '__reduce__', '__reduce_ex__', '__repr__', '__rfloordiv__', '__rlshift__', '__rmatmul__', '__rmod__', '__rmul__', '__ror__', '__rpow__', '__rrshift__', '__rshift__', '__rsub__', '__rtruediv__', '__rxor__', '__setattr__', '__setitem__', '__setstate__', '__sizeof__', '__str__', '__sub__', '__subclasshook__', '__truediv__', '__xor__', 'all', 'any', 'argmax', 'argmin', 'argpartition', 'argsort', 'astype', 'base', 'byteswap', 'choose', 'clip', 'compress', 'conj', 'conjugate', 'copy', 'ctypes', 'cumprod', 'cumsum', 'data', 'device', 'diagonal', 'dot', 'dtype', 'dump', 'dumps', 'fill', 'flags', 'flat', 'flatten', 'getfield', 'imag', 'item', 'itemset', 'itemsize', 'mT', 'max', 'mean', 'min', 'nbytes', 'ndim', 'newbyteorder', 'nonzero', 'partition', 'prod', 'ptp', 'put', 'ravel', 'real', 'repeat', 'reshape', 'resize', 'round', 'searchsorted', 'setfield', 'setflags', 'shape', 'size', 'sort', 'squeeze', 'std', 'strides', 'sum', 'swapaxes', 'take', 'to_device', 'tobytes', 'tofile', 'tolist', 'tostring', 'trace', 'transpose', 'var', 'view']\n",
      "{1, 2, 3}\n",
      "[[1 2 3]\n",
      " [4 5 6]]\n"
     ]
    }
   ],
   "source": [
    "import numpy as np\n",
    "\n",
    "print(dir(np.array(1)))\n",
    "a = np.array({1, 2, 3})  # 一维数组，向量\n",
    "print(a)\n",
    "b = np.array([[1, 2, 3], [4, 5, 6]])  # 二维数组，矩阵\n",
    "print(b)"
   ]
  },
  {
   "cell_type": "code",
   "execution_count": 22,
   "metadata": {},
   "outputs": [
    {
     "name": "stdout",
     "output_type": "stream",
     "text": [
      "a is  [[0. 0. 0.]\n",
      " [0. 0. 0.]]\n",
      "b is \n",
      " [[1. 1. 1.]\n",
      " [1. 1. 1.]]\n",
      "[[1. 1.]\n",
      " [1. 1.]]\n",
      "[0 2 4 6 8]\n",
      "[0.   0.25 0.5  0.75 1.  ]\n"
     ]
    }
   ],
   "source": [
    "# 创建特殊格式的数组\n",
    "a = np.zeros((2,3))  # 生成两行三列的全零数组\n",
    "print(\"a is \", a)\n",
    "b = np.ones((2,3), dtype=float)  # 全 1 数组，浮点数\n",
    "print(f\"b is \\n {b}\")\n",
    "c = np.empty((2,2))  # 未初始化的数组，值随机\n",
    "print(c)\n",
    "range_arr = np.arange(0, 10, 2)  # 0-10,2 为步长\n",
    "print(range_arr)\n",
    "linspace = np.linspace(0,1,5)  # 生成 0 到 1 之间均匀分布的 5 个数\n",
    "print(linspace)"
   ]
  },
  {
   "cell_type": "code",
   "execution_count": 23,
   "metadata": {},
   "outputs": [
    {
     "name": "stdout",
     "output_type": "stream",
     "text": [
      "[[0.775416   0.6938586  0.2437658 ]\n",
      " [0.57193044 0.19084205 0.34232884]]\n",
      "[[ 0.19847666 -1.53758438  0.39030222]\n",
      " [-1.49911456 -0.2732052  -0.01888216]]\n",
      "[[9 3 8]\n",
      " [5 2 4]]\n"
     ]
    }
   ],
   "source": [
    "# 生成随机数\n",
    "rand_uniform = np.random.rand(2, 3)  # 【0，1） 均匀分布\n",
    "print(rand_uniform)\n",
    "rand_normal = np.random.randn(2, 3)  # 标准正太分布\n",
    "print(rand_normal)\n",
    "rand_int = np.random.randint(0, 10, (2, 3)) # 0-9 之间的整数\n",
    "print(rand_int)"
   ]
  },
  {
   "cell_type": "markdown",
   "metadata": {},
   "source": [
    "### 数学运算"
   ]
  },
  {
   "cell_type": "code",
   "execution_count": 24,
   "metadata": {},
   "outputs": [
    {
     "name": "stdout",
     "output_type": "stream",
     "text": [
      "32\n"
     ]
    }
   ],
   "source": [
    "# 元素级\n",
    "a = np.array([1, 2, 3])\n",
    "b = np.array([4, 5, 6])\n",
    "\n",
    "add = a + b       # [5, 7, 9]\n",
    "sub = a - b       # [-3, -3, -3]\n",
    "mul = a * b       # [4, 10, 18]\n",
    "div = b / a       # [4.0, 2.5, 2.0]\n",
    "power = a ** 2    # [1, 4, 9]\n",
    "sqrt = np.sqrt(a) # [1.0, 1.414, 1.732]\n",
    "\n",
    "\n",
    "# 矩阵运算\n",
    "dot_product = np.dot(a, b)  #  矩阵乘法，等价于 mat1 @ mat2\n",
    "print(dot_product)\n",
    "\n",
    "\n",
    "# 通用函数\n",
    "sin_values = np.sin(a)         # 计算正弦\n",
    "log_values = np.log(a)         # 自然对数\n",
    "exp_values = np.exp(a)         # 指数函数"
   ]
  },
  {
   "cell_type": "markdown",
   "metadata": {},
   "source": [
    "### 形状操作"
   ]
  },
  {
   "cell_type": "code",
   "execution_count": 25,
   "metadata": {},
   "outputs": [
    {
     "name": "stdout",
     "output_type": "stream",
     "text": [
      "[[0 1 2]\n",
      " [3 4 5]]\n",
      "[0 1 2 3 4 5]\n",
      "[0 1 2 3 4 5]\n",
      "[[1 2]\n",
      " [3 4]\n",
      " [5 6]]\n",
      "[array([[1],\n",
      "       [3]]), array([[2],\n",
      "       [4]])]\n"
     ]
    }
   ],
   "source": [
    "# 调整形状，不复制数据\n",
    "arr = np.arange(6)\n",
    "reshaped = arr.reshape(2, 3)\n",
    "print(reshaped)\n",
    "\n",
    "\n",
    "# 展平数组\n",
    "flattened = reshaped.flatten()  # 返回一维副本：[0, 1, 2, 3, 4, 5]\n",
    "print(flattened)\n",
    "raveled = reshaped.ravel()  # 返回一维视图\n",
    "print(raveled)\n",
    "\n",
    "# 拼接与分割\n",
    "a = np.array([[1, 2], [3, 4]])\n",
    "b = np.array([[5, 6]])\n",
    "\n",
    "# 垂直拼接（沿行方向）\n",
    "vstack = np.vstack((a, b))  # [[1, 2], [3, 4], [5, 6]]\n",
    "print(vstack)\n",
    "\n",
    "# 水平分割\n",
    "split_arr = np.hsplit(a, 2)  # [array([[1], [3]]), array([[2], [4]])]\n",
    "print(split_arr)"
   ]
  },
  {
   "cell_type": "markdown",
   "metadata": {},
   "source": [
    "## 广播机制\n",
    "广播机制一种允许不同形状的数组进行逐元素运算的规则。\n",
    "\n",
    "### 核心规则：\n",
    "两个数组的维度从最右侧开始对齐，逐个维度检查是否可以满足如下条件：\n",
    "1. 维度相等：两个数组在该维度上的大小相同\n",
    "2. 维度为1：其中一个数组在该维度的大小为1，可以扩展到另一个数组的大小\n",
    "3. 维度缺失：可视为维度为1\n",
    "\n",
    "### 广播步骤\n",
    "假设 `A` 的形状为（3，1，4），数组 `B` 的形状为（2，1）\n",
    "1. 维度从最右侧对齐\n",
    "2. 扩展缺失维度，`B` 大小变成（1，2，1）\n",
    "3. 扩展大小为1的维度\n",
    "4. 逐元素进行运算\n",
    "\n",
    "### 内存空间\n",
    "广播机制不会改变原始数据，只是修改 `shape` 和 `strides` 来实现，在哪维度复制，`strides` 里面的维度就为0.并且逻辑扩展仅在运算过程中临时存在，运算完成后，广播的元数据被丢弃，原始数组的 shape 和 strides 保持不变。"
   ]
  },
  {
   "cell_type": "code",
   "execution_count": 26,
   "metadata": {},
   "outputs": [
    {
     "name": "stdout",
     "output_type": "stream",
     "text": [
      "operands could not be broadcast together with shapes (3,4) (3,2) \n"
     ]
    }
   ],
   "source": [
    "# 广播的限制，若数组形状不满足广播规则，将抛出错误：\n",
    "a = np.ones((3, 4))\n",
    "b = np.ones((3, 2))\n",
    "try:\n",
    "    a + b\n",
    "except ValueError as e:\n",
    "    print(e)  # 输出 \"operands could not be broadcast together with shapes (3,4) (2,5)\""
   ]
  },
  {
   "cell_type": "markdown",
   "metadata": {},
   "source": [
    "### 应用场景\n",
    "1. 归一化数据：所有的数据减去均值\n",
    "2. 图像处理：例如对每个通道亮度增加值\n",
    "3. 机器学习权重更新"
   ]
  },
  {
   "cell_type": "code",
   "execution_count": 27,
   "metadata": {},
   "outputs": [],
   "source": [
    "# 1. 归一化数据：\n",
    "data = np.random.rand(100, 3)  # 100个样本，3个特征\n",
    "mean = data.mean(axis=0)       # 形状 (3,)\n",
    "normalized = data - mean       # 广播减去均值\n",
    "\n",
    "# 2.图像处理：\n",
    "image = np.random.randint(0, 256, (256, 256, 3))  # RGB图像\n",
    "brightness_boost = np.array([10, 20, 30])          # 各通道亮度增强值\n",
    "brightened_image = image + brightness_boost        # 广播到每个像素\n",
    "\n",
    "# 3. 机器学习参数更新：\n",
    "weights = np.random.randn(10, 5)  # 权重矩阵\n",
    "gradients = np.random.randn(5)     # 梯度向量\n",
    "weights -= 0.1 * gradients         # 广播更新所有行\n",
    "# print(weights)"
   ]
  },
  {
   "cell_type": "markdown",
   "metadata": {},
   "source": [
    "## 参考资料\n",
    "[理解numpy中ndarray的内存布局和设计哲学](https://www.cnblogs.com/shine-lee/p/12293097.html \"博客\")"
   ]
  }
 ],
 "metadata": {
  "kernelspec": {
   "display_name": "deep_learn_note",
   "language": "python",
   "name": "python3"
  },
  "language_info": {
   "codemirror_mode": {
    "name": "ipython",
    "version": 3
   },
   "file_extension": ".py",
   "mimetype": "text/x-python",
   "name": "python",
   "nbconvert_exporter": "python",
   "pygments_lexer": "ipython3",
   "version": "3.10.16"
  }
 },
 "nbformat": 4,
 "nbformat_minor": 2
}
